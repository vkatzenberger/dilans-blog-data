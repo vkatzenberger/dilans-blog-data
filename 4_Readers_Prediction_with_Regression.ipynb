{
 "cells": [
  {
   "cell_type": "markdown",
   "id": "640e401f-ee26-4ace-ab7a-73f97d49caec",
   "metadata": {},
   "source": [
    "### Import"
   ]
  },
  {
   "cell_type": "code",
   "execution_count": 1,
   "id": "4b074782-4265-4293-b463-579c05abd614",
   "metadata": {},
   "outputs": [],
   "source": [
    "import numpy as np\n",
    "import pandas as pd\n",
    "from sklearn.ensemble import RandomForestClassifier\n",
    "import matplotlib\n",
    "import matplotlib.pyplot as plt \n",
    "%matplotlib inline"
   ]
  },
  {
   "cell_type": "markdown",
   "id": "4cb2c0f8-f0a2-4ddd-9ca6-1e2cfb931d44",
   "metadata": {},
   "source": [
    "### Get the data"
   ]
  },
  {
   "cell_type": "code",
   "execution_count": 2,
   "id": "17c525f4-c8f5-4715-b5a4-a756ca7b0f6d",
   "metadata": {},
   "outputs": [],
   "source": [
    "columns = ['date', 'time', 'event_type', 'location', 'user_id', 'source', 'topic']"
   ]
  },
  {
   "cell_type": "code",
   "execution_count": 3,
   "id": "fabfe94c-bfb4-4020-b174-e44edbb3fbd2",
   "metadata": {},
   "outputs": [
    {
     "data": {
      "text/html": [
       "<div>\n",
       "<style scoped>\n",
       "    .dataframe tbody tr th:only-of-type {\n",
       "        vertical-align: middle;\n",
       "    }\n",
       "\n",
       "    .dataframe tbody tr th {\n",
       "        vertical-align: top;\n",
       "    }\n",
       "\n",
       "    .dataframe thead th {\n",
       "        text-align: right;\n",
       "    }\n",
       "</style>\n",
       "<table border=\"1\" class=\"dataframe\">\n",
       "  <thead>\n",
       "    <tr style=\"text-align: right;\">\n",
       "      <th></th>\n",
       "      <th>date</th>\n",
       "      <th>event_type</th>\n",
       "      <th>location</th>\n",
       "      <th>user_id</th>\n",
       "      <th>source</th>\n",
       "      <th>topic</th>\n",
       "    </tr>\n",
       "  </thead>\n",
       "  <tbody>\n",
       "    <tr>\n",
       "      <th>0</th>\n",
       "      <td>2018-01-01</td>\n",
       "      <td>read</td>\n",
       "      <td>country_7</td>\n",
       "      <td>2458151261</td>\n",
       "      <td>SEO</td>\n",
       "      <td>North America</td>\n",
       "    </tr>\n",
       "    <tr>\n",
       "      <th>1</th>\n",
       "      <td>2018-01-01</td>\n",
       "      <td>read</td>\n",
       "      <td>country_7</td>\n",
       "      <td>2458151262</td>\n",
       "      <td>SEO</td>\n",
       "      <td>South America</td>\n",
       "    </tr>\n",
       "    <tr>\n",
       "      <th>2</th>\n",
       "      <td>2018-01-01</td>\n",
       "      <td>read</td>\n",
       "      <td>country_7</td>\n",
       "      <td>2458151263</td>\n",
       "      <td>AdWords</td>\n",
       "      <td>Africa</td>\n",
       "    </tr>\n",
       "    <tr>\n",
       "      <th>3</th>\n",
       "      <td>2018-01-01</td>\n",
       "      <td>read</td>\n",
       "      <td>country_7</td>\n",
       "      <td>2458151264</td>\n",
       "      <td>AdWords</td>\n",
       "      <td>Europe</td>\n",
       "    </tr>\n",
       "    <tr>\n",
       "      <th>4</th>\n",
       "      <td>2018-01-01</td>\n",
       "      <td>read</td>\n",
       "      <td>country_8</td>\n",
       "      <td>2458151265</td>\n",
       "      <td>Reddit</td>\n",
       "      <td>North America</td>\n",
       "    </tr>\n",
       "    <tr>\n",
       "      <th>...</th>\n",
       "      <td>...</td>\n",
       "      <td>...</td>\n",
       "      <td>...</td>\n",
       "      <td>...</td>\n",
       "      <td>...</td>\n",
       "      <td>...</td>\n",
       "    </tr>\n",
       "    <tr>\n",
       "      <th>581872</th>\n",
       "      <td>2018-03-31</td>\n",
       "      <td>read</td>\n",
       "      <td>country_4</td>\n",
       "      <td>2458361163</td>\n",
       "      <td>NaN</td>\n",
       "      <td>Africa</td>\n",
       "    </tr>\n",
       "    <tr>\n",
       "      <th>581873</th>\n",
       "      <td>2018-03-31</td>\n",
       "      <td>read</td>\n",
       "      <td>country_6</td>\n",
       "      <td>2458361177</td>\n",
       "      <td>NaN</td>\n",
       "      <td>Asia</td>\n",
       "    </tr>\n",
       "    <tr>\n",
       "      <th>581874</th>\n",
       "      <td>2018-03-31</td>\n",
       "      <td>read</td>\n",
       "      <td>country_7</td>\n",
       "      <td>2458361244</td>\n",
       "      <td>NaN</td>\n",
       "      <td>North America</td>\n",
       "    </tr>\n",
       "    <tr>\n",
       "      <th>581875</th>\n",
       "      <td>2018-03-31</td>\n",
       "      <td>read</td>\n",
       "      <td>country_7</td>\n",
       "      <td>2458361267</td>\n",
       "      <td>NaN</td>\n",
       "      <td>Europe</td>\n",
       "    </tr>\n",
       "    <tr>\n",
       "      <th>581876</th>\n",
       "      <td>2018-03-31</td>\n",
       "      <td>read</td>\n",
       "      <td>country_4</td>\n",
       "      <td>2458361208</td>\n",
       "      <td>NaN</td>\n",
       "      <td>Africa</td>\n",
       "    </tr>\n",
       "  </tbody>\n",
       "</table>\n",
       "<p>581877 rows × 6 columns</p>\n",
       "</div>"
      ],
      "text/plain": [
       "             date event_type   location     user_id   source          topic\n",
       "0      2018-01-01       read  country_7  2458151261      SEO  North America\n",
       "1      2018-01-01       read  country_7  2458151262      SEO  South America\n",
       "2      2018-01-01       read  country_7  2458151263  AdWords         Africa\n",
       "3      2018-01-01       read  country_7  2458151264  AdWords         Europe\n",
       "4      2018-01-01       read  country_8  2458151265   Reddit  North America\n",
       "...           ...        ...        ...         ...      ...            ...\n",
       "581872 2018-03-31       read  country_4  2458361163      NaN         Africa\n",
       "581873 2018-03-31       read  country_6  2458361177      NaN           Asia\n",
       "581874 2018-03-31       read  country_7  2458361244      NaN  North America\n",
       "581875 2018-03-31       read  country_7  2458361267      NaN         Europe\n",
       "581876 2018-03-31       read  country_4  2458361208      NaN         Africa\n",
       "\n",
       "[581877 rows x 6 columns]"
      ]
     },
     "execution_count": 3,
     "metadata": {},
     "output_type": "execute_result"
    }
   ],
   "source": [
    "read = pd.read_csv('/home/katz/dilans-blog/data/all_read.csv', delimiter = ';', names = columns)\n",
    "read['date'] = pd.to_datetime(read['date'], format='%Y-%m-%d')\n",
    "read = read.drop(columns=['time'])\n",
    "read"
   ]
  },
  {
   "cell_type": "markdown",
   "id": "dbb1ba4f-bda2-4769-b0c2-2a98e7141b27",
   "metadata": {},
   "source": [
    "### Daily unique readers"
   ]
  },
  {
   "cell_type": "code",
   "execution_count": 4,
   "id": "34397c55-6e87-4f65-8fd9-07b5f915fb06",
   "metadata": {},
   "outputs": [],
   "source": [
    "read = read[(read['date'] < '2018-03-31')]\n",
    "daily_readers = read[['date', 'user_id']].groupby('date').nunique()[['user_id']].reset_index()\n",
    "daily_readers = daily_readers['user_id'].tolist()"
   ]
  },
  {
   "cell_type": "code",
   "execution_count": 5,
   "id": "8f6bbdcf-7c52-4a0f-8ddf-1ee8d07998d5",
   "metadata": {},
   "outputs": [
    {
     "data": {
      "text/plain": [
       "[1795,\n",
       " 1849,\n",
       " 1886,\n",
       " 1987,\n",
       " 2043,\n",
       " 2102,\n",
       " 2107,\n",
       " 2161,\n",
       " 2271,\n",
       " 2288,\n",
       " 2335,\n",
       " 2370,\n",
       " 2421,\n",
       " 2568,\n",
       " 2549,\n",
       " 2661,\n",
       " 2633,\n",
       " 2539,\n",
       " 2842,\n",
       " 2839,\n",
       " 2706,\n",
       " 2734,\n",
       " 2798,\n",
       " 3230,\n",
       " 3001,\n",
       " 3098,\n",
       " 3230,\n",
       " 3502,\n",
       " 3673,\n",
       " 3325,\n",
       " 3321,\n",
       " 3352,\n",
       " 3825,\n",
       " 3828,\n",
       " 4091,\n",
       " 3652,\n",
       " 4052,\n",
       " 3637,\n",
       " 4217,\n",
       " 3848,\n",
       " 3826,\n",
       " 4739,\n",
       " 4189,\n",
       " 3922,\n",
       " 3791,\n",
       " 4386,\n",
       " 4438,\n",
       " 4424,\n",
       " 4097,\n",
       " 4856,\n",
       " 4584,\n",
       " 5596,\n",
       " 5356,\n",
       " 4862,\n",
       " 5726,\n",
       " 6127,\n",
       " 4861,\n",
       " 5424,\n",
       " 5644,\n",
       " 5443,\n",
       " 6487,\n",
       " 5727,\n",
       " 6138,\n",
       " 6430,\n",
       " 6086,\n",
       " 5319,\n",
       " 5491,\n",
       " 5205,\n",
       " 6609,\n",
       " 5764,\n",
       " 6315,\n",
       " 5943,\n",
       " 4941,\n",
       " 6275,\n",
       " 6406,\n",
       " 6011,\n",
       " 5531,\n",
       " 5219,\n",
       " 6060,\n",
       " 7992,\n",
       " 7162,\n",
       " 7531,\n",
       " 7600,\n",
       " 7264,\n",
       " 6714,\n",
       " 7839,\n",
       " 6851,\n",
       " 6649,\n",
       " 7034]"
      ]
     },
     "execution_count": 5,
     "metadata": {},
     "output_type": "execute_result"
    }
   ],
   "source": [
    "daily_readers"
   ]
  },
  {
   "cell_type": "markdown",
   "id": "628da1e8-060b-4851-8db8-5f620d30dd19",
   "metadata": {},
   "source": [
    "### Defining the feature(x) and target(y) variables"
   ]
  },
  {
   "cell_type": "code",
   "execution_count": 6,
   "id": "8a1ed42d-c480-4cc3-94d9-f7183127a555",
   "metadata": {},
   "outputs": [],
   "source": [
    "x = range(len(daily_readers))\n",
    "y = daily_readers"
   ]
  },
  {
   "cell_type": "code",
   "execution_count": 7,
   "id": "f307a41b-02fd-4062-bae9-69ef4f489f11",
   "metadata": {},
   "outputs": [
    {
     "data": {
      "text/plain": [
       "<matplotlib.collections.PathCollection at 0x7fde3c832820>"
      ]
     },
     "execution_count": 7,
     "metadata": {},
     "output_type": "execute_result"
    },
    {
     "data": {
      "image/png": "[encoded data removed]",
      "text/plain": [
       "<Figure size 640x480 with 1 Axes>"
      ]
     },
     "metadata": {},
     "output_type": "display_data"
    }
   ],
   "source": [
    "plt.scatter(x,y)"
   ]
  },
  {
   "cell_type": "markdown",
   "id": "a7b766ae-4497-49ba-b0db-00d212a10fb6",
   "metadata": {},
   "source": [
    "### Linear Regression"
   ]
  },
  {
   "cell_type": "code",
   "execution_count": 8,
   "id": "e5f0824d-43e9-4922-93ab-a143df3909fe",
   "metadata": {},
   "outputs": [],
   "source": [
    "coefs = np.polyfit(x, y, 1)"
   ]
  },
  {
   "cell_type": "code",
   "execution_count": 9,
   "id": "505fa199-3378-465a-b5d1-cee42c4d3379",
   "metadata": {},
   "outputs": [
    {
     "data": {
      "text/plain": [
       "array([  63.4416922 , 1660.81273408])"
      ]
     },
     "execution_count": 9,
     "metadata": {},
     "output_type": "execute_result"
    }
   ],
   "source": [
    "coefs"
   ]
  },
  {
   "cell_type": "code",
   "execution_count": 10,
   "id": "659b84eb-7d77-40ba-b5d8-ea5739295a9e",
   "metadata": {},
   "outputs": [],
   "source": [
    "predict = np.poly1d(coefs)"
   ]
  },
  {
   "cell_type": "markdown",
   "id": "cbc802d4-7ed4-485d-8a31-91ccb264db3d",
   "metadata": {},
   "source": [
    "#### Testing accuracy"
   ]
  },
  {
   "cell_type": "code",
   "execution_count": 11,
   "id": "a65c1eda-6278-4ba6-8ba5-e285ad48288b",
   "metadata": {},
   "outputs": [
    {
     "data": {
      "text/plain": [
       "0.9313490523503978"
      ]
     },
     "execution_count": 11,
     "metadata": {},
     "output_type": "execute_result"
    }
   ],
   "source": [
    "from sklearn.metrics import r2_score\n",
    "r2_score(y, predict(x))"
   ]
  },
  {
   "cell_type": "markdown",
   "id": "74bb217d-2890-41ae-b1a5-ca05fb61ec27",
   "metadata": {},
   "source": [
    "#### Fit the line"
   ]
  },
  {
   "cell_type": "code",
   "execution_count": 12,
   "id": "83e9e672-534f-43ab-928f-8e27cd2f28bb",
   "metadata": {},
   "outputs": [
    {
     "data": {
      "text/plain": [
       "[<matplotlib.lines.Line2D at 0x7fde3d0a6d90>]"
      ]
     },
     "execution_count": 12,
     "metadata": {},
     "output_type": "execute_result"
    },
    {
     "data": {
      "image/png": "[encoded data removed]",
      "text/plain": [
       "<Figure size 640x480 with 1 Axes>"
      ]
     },
     "metadata": {},
     "output_type": "display_data"
    }
   ],
   "source": [
    "x_test = range(0, len(daily_readers) + 30)\n",
    "y_pred = predict(x_test)\n",
    "plt.scatter(x, y)\n",
    "plt.plot(x_test, y_pred, c = 'r')"
   ]
  },
  {
   "cell_type": "markdown",
   "id": "c243f970-e119-420f-83aa-03860be189c2",
   "metadata": {},
   "source": [
    "### Polynomial Regression"
   ]
  },
  {
   "cell_type": "code",
   "execution_count": 13,
   "id": "6a9201db-3c5d-41ef-8adb-57700d989c68",
   "metadata": {},
   "outputs": [],
   "source": [
    "x = range(len(daily_readers))\n",
    "y = daily_readers"
   ]
  },
  {
   "cell_type": "code",
   "execution_count": 14,
   "id": "cf4807bb-9291-4241-902d-c7a8accbdca5",
   "metadata": {},
   "outputs": [],
   "source": [
    "coefs = np.polyfit(x, y, 4)\n",
    "predict = np.poly1d(coefs)"
   ]
  },
  {
   "cell_type": "markdown",
   "id": "84819bf9-7ce0-4e4f-b824-2c55ac99dfa0",
   "metadata": {},
   "source": [
    "#### Testing accuracy"
   ]
  },
  {
   "cell_type": "code",
   "execution_count": 16,
   "id": "720ebc61-a936-481f-ba75-abf2a16b82a6",
   "metadata": {},
   "outputs": [
    {
     "data": {
      "text/plain": [
       "0.9326850501530637"
      ]
     },
     "execution_count": 16,
     "metadata": {},
     "output_type": "execute_result"
    }
   ],
   "source": [
    "from sklearn.metrics import r2_score\n",
    "r2_score(y, predict(x))"
   ]
  },
  {
   "cell_type": "markdown",
   "id": "3aa12cbb-d050-456c-8ece-8f4193d76672",
   "metadata": {},
   "source": [
    "#### Fit the line"
   ]
  },
  {
   "cell_type": "code",
   "execution_count": 15,
   "id": "6ab14fdd-95e0-46d6-ad1b-e11862923cb5",
   "metadata": {},
   "outputs": [
    {
     "data": {
      "image/png": "[encoded data removed]",
      "text/plain": [
       "<Figure size 640x480 with 1 Axes>"
      ]
     },
     "metadata": {},
     "output_type": "display_data"
    }
   ],
   "source": [
    "x_test = range(0, len(daily_readers) + 30)\n",
    "y_pred = predict(x_test)\n",
    "plt.scatter(x, y)\n",
    "plt.plot(x_test, y_pred, c = 'r')\n",
    "plt.xlabel('Days')\n",
    "plt.ylabel('Unique Readers')\n",
    "plt.show()"
   ]
  },
  {
   "cell_type": "markdown",
   "id": "40ae247d-1cea-477c-ba84-0a079f47a73a",
   "metadata": {},
   "source": [
    "#### Readers prediction in 30 days"
   ]
  },
  {
   "cell_type": "code",
   "execution_count": 17,
   "id": "6e8eca0d-67af-41e6-8fdd-2002d3ac1fe2",
   "metadata": {},
   "outputs": [
    {
     "name": "stdout",
     "output_type": "stream",
     "text": [
      "90 -> 7375\n",
      "91 -> 7445\n",
      "92 -> 7516\n",
      "93 -> 7588\n",
      "94 -> 7662\n",
      "95 -> 7737\n",
      "96 -> 7814\n",
      "97 -> 7892\n",
      "98 -> 7972\n",
      "99 -> 8054\n",
      "100 -> 8138\n",
      "101 -> 8224\n",
      "102 -> 8312\n",
      "103 -> 8402\n",
      "104 -> 8495\n",
      "105 -> 8590\n",
      "106 -> 8688\n",
      "107 -> 8789\n",
      "108 -> 8892\n",
      "109 -> 8998\n",
      "110 -> 9108\n",
      "111 -> 9220\n",
      "112 -> 9336\n",
      "113 -> 9456\n",
      "114 -> 9579\n",
      "115 -> 9706\n",
      "116 -> 9836\n",
      "117 -> 9971\n",
      "118 -> 10110\n"
     ]
    }
   ],
   "source": [
    "results = []\n",
    "for i in range(90,len(daily_readers) + 30):\n",
    "    print(f'{i} -> {int(predict(i))}')\n",
    "    results.append({'day': i - 90, 'unique_readers': int(predict(i))})"
   ]
  },
  {
   "cell_type": "code",
   "execution_count": 18,
   "id": "0fa812a3-581f-4267-a913-3d65ad2b3de3",
   "metadata": {},
   "outputs": [],
   "source": [
    "results = pd.DataFrame(results)"
   ]
  },
  {
   "cell_type": "code",
   "execution_count": 21,
   "id": "2e3e6e64-b6c8-442d-82ea-ebaed6f11f17",
   "metadata": {},
   "outputs": [],
   "source": [
    "results.to_csv('/home/katz/dilans-blog/analysis/readers_prediction.csv', index = False)"
   ]
  }
 ],
 "metadata": {
  "kernelspec": {
   "display_name": "Python 3 (ipykernel)",
   "language": "python",
   "name": "python3"
  },
  "language_info": {
   "codemirror_mode": {
    "name": "ipython",
    "version": 3
   },
   "file_extension": ".py",
   "mimetype": "text/x-python",
   "name": "python",
   "nbconvert_exporter": "python",
   "pygments_lexer": "ipython3",
   "version": "3.8.10"
  }
 },
 "nbformat": 4,
 "nbformat_minor": 5
}
