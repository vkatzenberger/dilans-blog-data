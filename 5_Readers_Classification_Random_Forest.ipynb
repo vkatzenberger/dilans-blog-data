{
 "cells": [
  {
   "cell_type": "markdown",
   "id": "640e401f-ee26-4ace-ab7a-73f97d49caec",
   "metadata": {},
   "source": [
    "### Import"
   ]
  },
  {
   "cell_type": "code",
   "execution_count": 46,
   "id": "4b074782-4265-4293-b463-579c05abd614",
   "metadata": {},
   "outputs": [],
   "source": [
    "import numpy as np\n",
    "import pandas as pd\n",
    "from sklearn.ensemble import RandomForestClassifier\n",
    "from sklearn.multioutput import MultiOutputClassifier\n",
    "import matplotlib\n",
    "import matplotlib.pyplot as plt \n",
    "%matplotlib inline"
   ]
  },
  {
   "cell_type": "markdown",
   "id": "4cb2c0f8-f0a2-4ddd-9ca6-1e2cfb931d44",
   "metadata": {},
   "source": [
    "### Get the data"
   ]
  },
  {
   "cell_type": "code",
   "execution_count": 47,
   "id": "fabfe94c-bfb4-4020-b174-e44edbb3fbd2",
   "metadata": {},
   "outputs": [
    {
     "data": {
      "text/html": [
       "<div>\n",
       "<style scoped>\n",
       "    .dataframe tbody tr th:only-of-type {\n",
       "        vertical-align: middle;\n",
       "    }\n",
       "\n",
       "    .dataframe tbody tr th {\n",
       "        vertical-align: top;\n",
       "    }\n",
       "\n",
       "    .dataframe thead th {\n",
       "        text-align: right;\n",
       "    }\n",
       "</style>\n",
       "<table border=\"1\" class=\"dataframe\">\n",
       "  <thead>\n",
       "    <tr style=\"text-align: right;\">\n",
       "      <th></th>\n",
       "      <th>date</th>\n",
       "      <th>event_type</th>\n",
       "      <th>location</th>\n",
       "      <th>user_id</th>\n",
       "      <th>source</th>\n",
       "      <th>topic</th>\n",
       "    </tr>\n",
       "  </thead>\n",
       "  <tbody>\n",
       "    <tr>\n",
       "      <th>0</th>\n",
       "      <td>2018-01-01</td>\n",
       "      <td>read</td>\n",
       "      <td>country_7</td>\n",
       "      <td>2458151261</td>\n",
       "      <td>SEO</td>\n",
       "      <td>North America</td>\n",
       "    </tr>\n",
       "    <tr>\n",
       "      <th>1</th>\n",
       "      <td>2018-01-01</td>\n",
       "      <td>read</td>\n",
       "      <td>country_7</td>\n",
       "      <td>2458151262</td>\n",
       "      <td>SEO</td>\n",
       "      <td>South America</td>\n",
       "    </tr>\n",
       "    <tr>\n",
       "      <th>2</th>\n",
       "      <td>2018-01-01</td>\n",
       "      <td>read</td>\n",
       "      <td>country_7</td>\n",
       "      <td>2458151263</td>\n",
       "      <td>AdWords</td>\n",
       "      <td>Africa</td>\n",
       "    </tr>\n",
       "    <tr>\n",
       "      <th>3</th>\n",
       "      <td>2018-01-01</td>\n",
       "      <td>read</td>\n",
       "      <td>country_7</td>\n",
       "      <td>2458151264</td>\n",
       "      <td>AdWords</td>\n",
       "      <td>Europe</td>\n",
       "    </tr>\n",
       "    <tr>\n",
       "      <th>4</th>\n",
       "      <td>2018-01-01</td>\n",
       "      <td>read</td>\n",
       "      <td>country_8</td>\n",
       "      <td>2458151265</td>\n",
       "      <td>Reddit</td>\n",
       "      <td>North America</td>\n",
       "    </tr>\n",
       "    <tr>\n",
       "      <th>...</th>\n",
       "      <td>...</td>\n",
       "      <td>...</td>\n",
       "      <td>...</td>\n",
       "      <td>...</td>\n",
       "      <td>...</td>\n",
       "      <td>...</td>\n",
       "    </tr>\n",
       "    <tr>\n",
       "      <th>581872</th>\n",
       "      <td>2018-03-31</td>\n",
       "      <td>read</td>\n",
       "      <td>country_4</td>\n",
       "      <td>2458361163</td>\n",
       "      <td>NaN</td>\n",
       "      <td>Africa</td>\n",
       "    </tr>\n",
       "    <tr>\n",
       "      <th>581873</th>\n",
       "      <td>2018-03-31</td>\n",
       "      <td>read</td>\n",
       "      <td>country_6</td>\n",
       "      <td>2458361177</td>\n",
       "      <td>NaN</td>\n",
       "      <td>Asia</td>\n",
       "    </tr>\n",
       "    <tr>\n",
       "      <th>581874</th>\n",
       "      <td>2018-03-31</td>\n",
       "      <td>read</td>\n",
       "      <td>country_7</td>\n",
       "      <td>2458361244</td>\n",
       "      <td>NaN</td>\n",
       "      <td>North America</td>\n",
       "    </tr>\n",
       "    <tr>\n",
       "      <th>581875</th>\n",
       "      <td>2018-03-31</td>\n",
       "      <td>read</td>\n",
       "      <td>country_7</td>\n",
       "      <td>2458361267</td>\n",
       "      <td>NaN</td>\n",
       "      <td>Europe</td>\n",
       "    </tr>\n",
       "    <tr>\n",
       "      <th>581876</th>\n",
       "      <td>2018-03-31</td>\n",
       "      <td>read</td>\n",
       "      <td>country_4</td>\n",
       "      <td>2458361208</td>\n",
       "      <td>NaN</td>\n",
       "      <td>Africa</td>\n",
       "    </tr>\n",
       "  </tbody>\n",
       "</table>\n",
       "<p>581877 rows × 6 columns</p>\n",
       "</div>"
      ],
      "text/plain": [
       "             date event_type   location     user_id   source          topic\n",
       "0      2018-01-01       read  country_7  2458151261      SEO  North America\n",
       "1      2018-01-01       read  country_7  2458151262      SEO  South America\n",
       "2      2018-01-01       read  country_7  2458151263  AdWords         Africa\n",
       "3      2018-01-01       read  country_7  2458151264  AdWords         Europe\n",
       "4      2018-01-01       read  country_8  2458151265   Reddit  North America\n",
       "...           ...        ...        ...         ...      ...            ...\n",
       "581872 2018-03-31       read  country_4  2458361163      NaN         Africa\n",
       "581873 2018-03-31       read  country_6  2458361177      NaN           Asia\n",
       "581874 2018-03-31       read  country_7  2458361244      NaN  North America\n",
       "581875 2018-03-31       read  country_7  2458361267      NaN         Europe\n",
       "581876 2018-03-31       read  country_4  2458361208      NaN         Africa\n",
       "\n",
       "[581877 rows x 6 columns]"
      ]
     },
     "execution_count": 47,
     "metadata": {},
     "output_type": "execute_result"
    }
   ],
   "source": [
    "columns = ['date', 'time', 'event_type', 'location', 'user_id', 'source', 'topic']\n",
    "read = pd.read_csv('/home/katz/dilans-blog/data/all_read.csv', delimiter = ';', names = columns)\n",
    "read['date'] = pd.to_datetime(read['date'], format='%Y-%m-%d')\n",
    "read = read.drop(columns=['time'])\n",
    "read"
   ]
  },
  {
   "cell_type": "markdown",
   "id": "f98b27be-3f45-4a8d-9e21-9b65c317c584",
   "metadata": {},
   "source": [
    "### Get the first readers data"
   ]
  },
  {
   "cell_type": "code",
   "execution_count": 48,
   "id": "63292311-bfea-479c-91c2-16349c728d0f",
   "metadata": {},
   "outputs": [
    {
     "data": {
      "text/html": [
       "<div>\n",
       "<style scoped>\n",
       "    .dataframe tbody tr th:only-of-type {\n",
       "        vertical-align: middle;\n",
       "    }\n",
       "\n",
       "    .dataframe tbody tr th {\n",
       "        vertical-align: top;\n",
       "    }\n",
       "\n",
       "    .dataframe thead th {\n",
       "        text-align: right;\n",
       "    }\n",
       "</style>\n",
       "<table border=\"1\" class=\"dataframe\">\n",
       "  <thead>\n",
       "    <tr style=\"text-align: right;\">\n",
       "      <th></th>\n",
       "      <th>user_id</th>\n",
       "      <th>location</th>\n",
       "      <th>source</th>\n",
       "      <th>topic</th>\n",
       "    </tr>\n",
       "  </thead>\n",
       "  <tbody>\n",
       "    <tr>\n",
       "      <th>0</th>\n",
       "      <td>2458151261</td>\n",
       "      <td>country_7</td>\n",
       "      <td>SEO</td>\n",
       "      <td>North America</td>\n",
       "    </tr>\n",
       "    <tr>\n",
       "      <th>1</th>\n",
       "      <td>2458151262</td>\n",
       "      <td>country_7</td>\n",
       "      <td>SEO</td>\n",
       "      <td>South America</td>\n",
       "    </tr>\n",
       "    <tr>\n",
       "      <th>2</th>\n",
       "      <td>2458151263</td>\n",
       "      <td>country_7</td>\n",
       "      <td>AdWords</td>\n",
       "      <td>Africa</td>\n",
       "    </tr>\n",
       "    <tr>\n",
       "      <th>3</th>\n",
       "      <td>2458151264</td>\n",
       "      <td>country_7</td>\n",
       "      <td>AdWords</td>\n",
       "      <td>Europe</td>\n",
       "    </tr>\n",
       "    <tr>\n",
       "      <th>4</th>\n",
       "      <td>2458151265</td>\n",
       "      <td>country_8</td>\n",
       "      <td>Reddit</td>\n",
       "      <td>North America</td>\n",
       "    </tr>\n",
       "    <tr>\n",
       "      <th>...</th>\n",
       "      <td>...</td>\n",
       "      <td>...</td>\n",
       "      <td>...</td>\n",
       "      <td>...</td>\n",
       "    </tr>\n",
       "    <tr>\n",
       "      <th>581731</th>\n",
       "      <td>2458361279</td>\n",
       "      <td>country_1</td>\n",
       "      <td>SEO</td>\n",
       "      <td>North America</td>\n",
       "    </tr>\n",
       "    <tr>\n",
       "      <th>581735</th>\n",
       "      <td>2458361280</td>\n",
       "      <td>country_6</td>\n",
       "      <td>AdWords</td>\n",
       "      <td>Asia</td>\n",
       "    </tr>\n",
       "    <tr>\n",
       "      <th>581738</th>\n",
       "      <td>2458361281</td>\n",
       "      <td>country_8</td>\n",
       "      <td>AdWords</td>\n",
       "      <td>Europe</td>\n",
       "    </tr>\n",
       "    <tr>\n",
       "      <th>581742</th>\n",
       "      <td>2458361282</td>\n",
       "      <td>country_5</td>\n",
       "      <td>AdWords</td>\n",
       "      <td>Europe</td>\n",
       "    </tr>\n",
       "    <tr>\n",
       "      <th>581744</th>\n",
       "      <td>2458361283</td>\n",
       "      <td>country_5</td>\n",
       "      <td>Reddit</td>\n",
       "      <td>Asia</td>\n",
       "    </tr>\n",
       "  </tbody>\n",
       "</table>\n",
       "<p>210023 rows × 4 columns</p>\n",
       "</div>"
      ],
      "text/plain": [
       "           user_id   location   source          topic\n",
       "0       2458151261  country_7      SEO  North America\n",
       "1       2458151262  country_7      SEO  South America\n",
       "2       2458151263  country_7  AdWords         Africa\n",
       "3       2458151264  country_7  AdWords         Europe\n",
       "4       2458151265  country_8   Reddit  North America\n",
       "...            ...        ...      ...            ...\n",
       "581731  2458361279  country_1      SEO  North America\n",
       "581735  2458361280  country_6  AdWords           Asia\n",
       "581738  2458361281  country_8  AdWords         Europe\n",
       "581742  2458361282  country_5  AdWords         Europe\n",
       "581744  2458361283  country_5   Reddit           Asia\n",
       "\n",
       "[210023 rows x 4 columns]"
      ]
     },
     "execution_count": 48,
     "metadata": {},
     "output_type": "execute_result"
    }
   ],
   "source": [
    "first_readers = read[read.source.notna()][['user_id', 'location', 'source', 'topic']]\n",
    "first_readers"
   ]
  },
  {
   "cell_type": "markdown",
   "id": "0166734b-8b58-4603-b735-8239fc43dfef",
   "metadata": {},
   "source": [
    "### Get the returning readers id"
   ]
  },
  {
   "cell_type": "code",
   "execution_count": 49,
   "id": "088c1883-fcde-4b0b-9798-e7c7b164b37e",
   "metadata": {},
   "outputs": [
    {
     "data": {
      "text/html": [
       "<div>\n",
       "<style scoped>\n",
       "    .dataframe tbody tr th:only-of-type {\n",
       "        vertical-align: middle;\n",
       "    }\n",
       "\n",
       "    .dataframe tbody tr th {\n",
       "        vertical-align: top;\n",
       "    }\n",
       "\n",
       "    .dataframe thead th {\n",
       "        text-align: right;\n",
       "    }\n",
       "</style>\n",
       "<table border=\"1\" class=\"dataframe\">\n",
       "  <thead>\n",
       "    <tr style=\"text-align: right;\">\n",
       "      <th></th>\n",
       "      <th>user_id</th>\n",
       "      <th>returning</th>\n",
       "    </tr>\n",
       "  </thead>\n",
       "  <tbody>\n",
       "    <tr>\n",
       "      <th>0</th>\n",
       "      <td>2458151267</td>\n",
       "      <td>1</td>\n",
       "    </tr>\n",
       "    <tr>\n",
       "      <th>1</th>\n",
       "      <td>2458151271</td>\n",
       "      <td>1</td>\n",
       "    </tr>\n",
       "    <tr>\n",
       "      <th>2</th>\n",
       "      <td>2458151273</td>\n",
       "      <td>1</td>\n",
       "    </tr>\n",
       "    <tr>\n",
       "      <th>3</th>\n",
       "      <td>2458151276</td>\n",
       "      <td>1</td>\n",
       "    </tr>\n",
       "    <tr>\n",
       "      <th>4</th>\n",
       "      <td>2458151278</td>\n",
       "      <td>1</td>\n",
       "    </tr>\n",
       "    <tr>\n",
       "      <th>...</th>\n",
       "      <td>...</td>\n",
       "      <td>...</td>\n",
       "    </tr>\n",
       "    <tr>\n",
       "      <th>66226</th>\n",
       "      <td>2458361271</td>\n",
       "      <td>1</td>\n",
       "    </tr>\n",
       "    <tr>\n",
       "      <th>66227</th>\n",
       "      <td>2458361276</td>\n",
       "      <td>1</td>\n",
       "    </tr>\n",
       "    <tr>\n",
       "      <th>66228</th>\n",
       "      <td>2458361278</td>\n",
       "      <td>1</td>\n",
       "    </tr>\n",
       "    <tr>\n",
       "      <th>66229</th>\n",
       "      <td>2458361282</td>\n",
       "      <td>1</td>\n",
       "    </tr>\n",
       "    <tr>\n",
       "      <th>66230</th>\n",
       "      <td>2458361283</td>\n",
       "      <td>1</td>\n",
       "    </tr>\n",
       "  </tbody>\n",
       "</table>\n",
       "<p>66231 rows × 2 columns</p>\n",
       "</div>"
      ],
      "text/plain": [
       "          user_id  returning\n",
       "0      2458151267          1\n",
       "1      2458151271          1\n",
       "2      2458151273          1\n",
       "3      2458151276          1\n",
       "4      2458151278          1\n",
       "...           ...        ...\n",
       "66226  2458361271          1\n",
       "66227  2458361276          1\n",
       "66228  2458361278          1\n",
       "66229  2458361282          1\n",
       "66230  2458361283          1\n",
       "\n",
       "[66231 rows x 2 columns]"
      ]
     },
     "execution_count": 49,
     "metadata": {},
     "output_type": "execute_result"
    }
   ],
   "source": [
    "returning_readers = read[read.source.isna()].groupby('user_id').count().reset_index()[['user_id']]\n",
    "returning_readers['returning'] = 1\n",
    "returning_readers"
   ]
  },
  {
   "cell_type": "markdown",
   "id": "b81b2883-5529-46ca-9eb0-bf96fad2695f",
   "metadata": {},
   "source": [
    "### Get the customers id"
   ]
  },
  {
   "cell_type": "code",
   "execution_count": 50,
   "id": "968b4bb4-de16-4a52-943f-fcad4047adbe",
   "metadata": {},
   "outputs": [],
   "source": [
    "columns = ['date', 'event_type', 'user_id', 'price']\n",
    "buy = pd.read_csv('/home/katz/dilans-blog/data/all_buy.csv', delimiter = ';', names = columns)\n",
    "buy = buy.groupby('user_id').count().reset_index()[['user_id']]\n",
    "buy['customer'] = 1"
   ]
  },
  {
   "cell_type": "code",
   "execution_count": 51,
   "id": "42be1733-7796-4d4e-b20c-2c1e6ca58134",
   "metadata": {},
   "outputs": [
    {
     "data": {
      "text/html": [
       "<div>\n",
       "<style scoped>\n",
       "    .dataframe tbody tr th:only-of-type {\n",
       "        vertical-align: middle;\n",
       "    }\n",
       "\n",
       "    .dataframe tbody tr th {\n",
       "        vertical-align: top;\n",
       "    }\n",
       "\n",
       "    .dataframe thead th {\n",
       "        text-align: right;\n",
       "    }\n",
       "</style>\n",
       "<table border=\"1\" class=\"dataframe\">\n",
       "  <thead>\n",
       "    <tr style=\"text-align: right;\">\n",
       "      <th></th>\n",
       "      <th>user_id</th>\n",
       "      <th>customer</th>\n",
       "    </tr>\n",
       "  </thead>\n",
       "  <tbody>\n",
       "    <tr>\n",
       "      <th>0</th>\n",
       "      <td>2458151279</td>\n",
       "      <td>1</td>\n",
       "    </tr>\n",
       "    <tr>\n",
       "      <th>1</th>\n",
       "      <td>2458151323</td>\n",
       "      <td>1</td>\n",
       "    </tr>\n",
       "    <tr>\n",
       "      <th>2</th>\n",
       "      <td>2458151349</td>\n",
       "      <td>1</td>\n",
       "    </tr>\n",
       "    <tr>\n",
       "      <th>3</th>\n",
       "      <td>2458151364</td>\n",
       "      <td>1</td>\n",
       "    </tr>\n",
       "    <tr>\n",
       "      <th>4</th>\n",
       "      <td>2458151367</td>\n",
       "      <td>1</td>\n",
       "    </tr>\n",
       "    <tr>\n",
       "      <th>...</th>\n",
       "      <td>...</td>\n",
       "      <td>...</td>\n",
       "    </tr>\n",
       "    <tr>\n",
       "      <th>6643</th>\n",
       "      <td>2458346117</td>\n",
       "      <td>1</td>\n",
       "    </tr>\n",
       "    <tr>\n",
       "      <th>6644</th>\n",
       "      <td>2458346133</td>\n",
       "      <td>1</td>\n",
       "    </tr>\n",
       "    <tr>\n",
       "      <th>6645</th>\n",
       "      <td>2458346159</td>\n",
       "      <td>1</td>\n",
       "    </tr>\n",
       "    <tr>\n",
       "      <th>6646</th>\n",
       "      <td>2458346179</td>\n",
       "      <td>1</td>\n",
       "    </tr>\n",
       "    <tr>\n",
       "      <th>6647</th>\n",
       "      <td>2458346214</td>\n",
       "      <td>1</td>\n",
       "    </tr>\n",
       "  </tbody>\n",
       "</table>\n",
       "<p>6648 rows × 2 columns</p>\n",
       "</div>"
      ],
      "text/plain": [
       "         user_id  customer\n",
       "0     2458151279         1\n",
       "1     2458151323         1\n",
       "2     2458151349         1\n",
       "3     2458151364         1\n",
       "4     2458151367         1\n",
       "...          ...       ...\n",
       "6643  2458346117         1\n",
       "6644  2458346133         1\n",
       "6645  2458346159         1\n",
       "6646  2458346179         1\n",
       "6647  2458346214         1\n",
       "\n",
       "[6648 rows x 2 columns]"
      ]
     },
     "execution_count": 51,
     "metadata": {},
     "output_type": "execute_result"
    }
   ],
   "source": [
    "buy"
   ]
  },
  {
   "cell_type": "markdown",
   "id": "6ac4632b-4df6-436c-ab6d-4eb0b12961e7",
   "metadata": {},
   "source": [
    "### Merge the tables"
   ]
  },
  {
   "cell_type": "code",
   "execution_count": 52,
   "id": "1fc8ed23-c073-452a-8405-ef01b4493a7f",
   "metadata": {},
   "outputs": [],
   "source": [
    "known = pd.merge(first_readers, returning_readers, on = 'user_id', how = 'left')"
   ]
  },
  {
   "cell_type": "code",
   "execution_count": 53,
   "id": "14ce795b-7cf7-4fed-bac5-314708592df1",
   "metadata": {},
   "outputs": [],
   "source": [
    "known = pd.merge(known, buy, on = 'user_id', how = 'left')"
   ]
  },
  {
   "cell_type": "code",
   "execution_count": 54,
   "id": "09b7bf5d-990a-479f-ae2e-60a4198a476e",
   "metadata": {},
   "outputs": [],
   "source": [
    "known = known[['user_id', 'location', 'source', 'topic', 'returning', 'customer']]"
   ]
  },
  {
   "cell_type": "code",
   "execution_count": 55,
   "id": "a1821b08-3ac9-4324-997c-658be1773eed",
   "metadata": {},
   "outputs": [],
   "source": [
    "known.loc[known.returning.isna(), 'returning'] = 0"
   ]
  },
  {
   "cell_type": "code",
   "execution_count": 56,
   "id": "b700afe5-1acf-4812-9178-7bd9a94e148d",
   "metadata": {},
   "outputs": [],
   "source": [
    "known.loc[known.customer.isna(), 'customer'] = 0"
   ]
  },
  {
   "cell_type": "code",
   "execution_count": 57,
   "id": "7b9e515f-8863-411f-a155-a16e7f1cafea",
   "metadata": {},
   "outputs": [],
   "source": [
    "known['returning'] = known['returning'].astype(int)\n",
    "known['customer'] = known['customer'].astype(int)"
   ]
  },
  {
   "cell_type": "code",
   "execution_count": 58,
   "id": "dc57b29a-7088-414f-bd0e-65b6520d4154",
   "metadata": {},
   "outputs": [
    {
     "data": {
      "text/html": [
       "<div>\n",
       "<style scoped>\n",
       "    .dataframe tbody tr th:only-of-type {\n",
       "        vertical-align: middle;\n",
       "    }\n",
       "\n",
       "    .dataframe tbody tr th {\n",
       "        vertical-align: top;\n",
       "    }\n",
       "\n",
       "    .dataframe thead th {\n",
       "        text-align: right;\n",
       "    }\n",
       "</style>\n",
       "<table border=\"1\" class=\"dataframe\">\n",
       "  <thead>\n",
       "    <tr style=\"text-align: right;\">\n",
       "      <th></th>\n",
       "      <th>user_id</th>\n",
       "      <th>location</th>\n",
       "      <th>source</th>\n",
       "      <th>topic</th>\n",
       "      <th>returning</th>\n",
       "    </tr>\n",
       "    <tr>\n",
       "      <th>customer</th>\n",
       "      <th></th>\n",
       "      <th></th>\n",
       "      <th></th>\n",
       "      <th></th>\n",
       "      <th></th>\n",
       "    </tr>\n",
       "  </thead>\n",
       "  <tbody>\n",
       "    <tr>\n",
       "      <th>0</th>\n",
       "      <td>203375</td>\n",
       "      <td>203375</td>\n",
       "      <td>203375</td>\n",
       "      <td>203375</td>\n",
       "      <td>203375</td>\n",
       "    </tr>\n",
       "    <tr>\n",
       "      <th>1</th>\n",
       "      <td>6648</td>\n",
       "      <td>6648</td>\n",
       "      <td>6648</td>\n",
       "      <td>6648</td>\n",
       "      <td>6648</td>\n",
       "    </tr>\n",
       "  </tbody>\n",
       "</table>\n",
       "</div>"
      ],
      "text/plain": [
       "          user_id  location  source   topic  returning\n",
       "customer                                              \n",
       "0          203375    203375  203375  203375     203375\n",
       "1            6648      6648    6648    6648       6648"
      ]
     },
     "execution_count": 58,
     "metadata": {},
     "output_type": "execute_result"
    }
   ],
   "source": [
    "known.groupby('customer').count()"
   ]
  },
  {
   "cell_type": "markdown",
   "id": "62958ce4-607c-4d5a-aac2-9b4899f3dff0",
   "metadata": {},
   "source": [
    "### Decoding our data set"
   ]
  },
  {
   "cell_type": "markdown",
   "id": "0a55b37d-bb08-43a2-bce5-1ddd17eca30e",
   "metadata": {},
   "source": [
    "#### Location"
   ]
  },
  {
   "cell_type": "code",
   "execution_count": 59,
   "id": "53a30067-7b20-45d7-a960-83387005ca5e",
   "metadata": {},
   "outputs": [],
   "source": [
    "location_data = known.groupby('location').count()\n",
    "location_decoder = {}"
   ]
  },
  {
   "cell_type": "code",
   "execution_count": 60,
   "id": "8e756eb8-907f-4ed7-9e5c-a4020730d678",
   "metadata": {},
   "outputs": [],
   "source": [
    "location_decoder = {index: i for i, index in enumerate(location_data.index)}"
   ]
  },
  {
   "cell_type": "code",
   "execution_count": 61,
   "id": "5e0594b8-7bc7-4ef5-943c-da64cc6a0795",
   "metadata": {},
   "outputs": [
    {
     "data": {
      "text/plain": [
       "{'country_1': 0,\n",
       " 'country_2': 1,\n",
       " 'country_3': 2,\n",
       " 'country_4': 3,\n",
       " 'country_5': 4,\n",
       " 'country_6': 5,\n",
       " 'country_7': 6,\n",
       " 'country_8': 7}"
      ]
     },
     "execution_count": 61,
     "metadata": {},
     "output_type": "execute_result"
    }
   ],
   "source": [
    "location_decoder"
   ]
  },
  {
   "cell_type": "code",
   "execution_count": 62,
   "id": "50880d55-5aba-4d03-9996-32fd7ee6ffa3",
   "metadata": {},
   "outputs": [],
   "source": [
    "known.loc[:, 'location'] = known['location'].map(location_decoder)"
   ]
  },
  {
   "cell_type": "markdown",
   "id": "8b5cf4ba-cfdb-4444-9809-464e9a08a354",
   "metadata": {},
   "source": [
    "#### Source"
   ]
  },
  {
   "cell_type": "code",
   "execution_count": 63,
   "id": "a539f222-d814-403f-b213-da3d16b90ad4",
   "metadata": {},
   "outputs": [],
   "source": [
    "source_data = known.groupby('source').count()\n",
    "source_decoder = {}"
   ]
  },
  {
   "cell_type": "code",
   "execution_count": 64,
   "id": "2c9a5596-08e6-4d89-a8ef-16d6c41a6efc",
   "metadata": {},
   "outputs": [],
   "source": [
    "source_decoder = {index: i for i, index in enumerate(source_data.index)}"
   ]
  },
  {
   "cell_type": "code",
   "execution_count": 65,
   "id": "74b415f8-1487-4307-a98c-dcaf5f85f381",
   "metadata": {},
   "outputs": [
    {
     "data": {
      "text/plain": [
       "{'AdWords': 0, 'Reddit': 1, 'SEO': 2}"
      ]
     },
     "execution_count": 65,
     "metadata": {},
     "output_type": "execute_result"
    }
   ],
   "source": [
    "source_decoder"
   ]
  },
  {
   "cell_type": "code",
   "execution_count": 66,
   "id": "0cb58b92-23af-443e-8ce5-7c84043232df",
   "metadata": {},
   "outputs": [],
   "source": [
    "known.loc[:, 'source'] = known['source'].map(source_decoder)"
   ]
  },
  {
   "cell_type": "markdown",
   "id": "980b3719-1fa8-4fe7-b9fd-5300155f48dd",
   "metadata": {},
   "source": [
    "#### Topic"
   ]
  },
  {
   "cell_type": "code",
   "execution_count": 67,
   "id": "f602c97f-e4a2-472e-9b12-2a8162774f17",
   "metadata": {},
   "outputs": [],
   "source": [
    "topic_data = known.groupby('topic').count()\n",
    "topic_decoder = {}"
   ]
  },
  {
   "cell_type": "code",
   "execution_count": 68,
   "id": "f05ed823-998b-4124-b642-264ca574afb4",
   "metadata": {},
   "outputs": [],
   "source": [
    "topic_decoder = {index: i for i, index in enumerate(topic_data.index)}"
   ]
  },
  {
   "cell_type": "code",
   "execution_count": 69,
   "id": "85595f8a-8b08-4f63-89e2-c8db4030bb0d",
   "metadata": {},
   "outputs": [
    {
     "data": {
      "text/plain": [
       "{'Africa': 0,\n",
       " 'Asia': 1,\n",
       " 'Australia': 2,\n",
       " 'Europe': 3,\n",
       " 'North America': 4,\n",
       " 'South America': 5}"
      ]
     },
     "execution_count": 69,
     "metadata": {},
     "output_type": "execute_result"
    }
   ],
   "source": [
    "topic_decoder"
   ]
  },
  {
   "cell_type": "code",
   "execution_count": 70,
   "id": "c669de5b-d760-4be6-b62d-9bd8cf923af1",
   "metadata": {},
   "outputs": [],
   "source": [
    "known.loc[:, 'topic'] = known['topic'].map(topic_decoder)"
   ]
  },
  {
   "cell_type": "markdown",
   "id": "3decf24d-3803-411f-8ca7-c9bdb6fa49e6",
   "metadata": {},
   "source": [
    "### Machine Learning (Random Forest Classifier)"
   ]
  },
  {
   "cell_type": "code",
   "execution_count": 71,
   "id": "2203aba5-8c9a-48b3-a9a1-bc85152e5f4d",
   "metadata": {},
   "outputs": [
    {
     "data": {
      "text/html": [
       "<div>\n",
       "<style scoped>\n",
       "    .dataframe tbody tr th:only-of-type {\n",
       "        vertical-align: middle;\n",
       "    }\n",
       "\n",
       "    .dataframe tbody tr th {\n",
       "        vertical-align: top;\n",
       "    }\n",
       "\n",
       "    .dataframe thead th {\n",
       "        text-align: right;\n",
       "    }\n",
       "</style>\n",
       "<table border=\"1\" class=\"dataframe\">\n",
       "  <thead>\n",
       "    <tr style=\"text-align: right;\">\n",
       "      <th></th>\n",
       "      <th>user_id</th>\n",
       "      <th>location</th>\n",
       "      <th>source</th>\n",
       "      <th>topic</th>\n",
       "      <th>returning</th>\n",
       "      <th>customer</th>\n",
       "    </tr>\n",
       "  </thead>\n",
       "  <tbody>\n",
       "    <tr>\n",
       "      <th>0</th>\n",
       "      <td>2458151261</td>\n",
       "      <td>6</td>\n",
       "      <td>2</td>\n",
       "      <td>4</td>\n",
       "      <td>0</td>\n",
       "      <td>0</td>\n",
       "    </tr>\n",
       "    <tr>\n",
       "      <th>1</th>\n",
       "      <td>2458151262</td>\n",
       "      <td>6</td>\n",
       "      <td>2</td>\n",
       "      <td>5</td>\n",
       "      <td>0</td>\n",
       "      <td>0</td>\n",
       "    </tr>\n",
       "    <tr>\n",
       "      <th>2</th>\n",
       "      <td>2458151263</td>\n",
       "      <td>6</td>\n",
       "      <td>0</td>\n",
       "      <td>0</td>\n",
       "      <td>0</td>\n",
       "      <td>0</td>\n",
       "    </tr>\n",
       "    <tr>\n",
       "      <th>3</th>\n",
       "      <td>2458151264</td>\n",
       "      <td>6</td>\n",
       "      <td>0</td>\n",
       "      <td>3</td>\n",
       "      <td>0</td>\n",
       "      <td>0</td>\n",
       "    </tr>\n",
       "    <tr>\n",
       "      <th>4</th>\n",
       "      <td>2458151265</td>\n",
       "      <td>7</td>\n",
       "      <td>1</td>\n",
       "      <td>4</td>\n",
       "      <td>0</td>\n",
       "      <td>0</td>\n",
       "    </tr>\n",
       "    <tr>\n",
       "      <th>...</th>\n",
       "      <td>...</td>\n",
       "      <td>...</td>\n",
       "      <td>...</td>\n",
       "      <td>...</td>\n",
       "      <td>...</td>\n",
       "      <td>...</td>\n",
       "    </tr>\n",
       "    <tr>\n",
       "      <th>210018</th>\n",
       "      <td>2458361279</td>\n",
       "      <td>0</td>\n",
       "      <td>2</td>\n",
       "      <td>4</td>\n",
       "      <td>0</td>\n",
       "      <td>0</td>\n",
       "    </tr>\n",
       "    <tr>\n",
       "      <th>210019</th>\n",
       "      <td>2458361280</td>\n",
       "      <td>5</td>\n",
       "      <td>0</td>\n",
       "      <td>1</td>\n",
       "      <td>0</td>\n",
       "      <td>0</td>\n",
       "    </tr>\n",
       "    <tr>\n",
       "      <th>210020</th>\n",
       "      <td>2458361281</td>\n",
       "      <td>7</td>\n",
       "      <td>0</td>\n",
       "      <td>3</td>\n",
       "      <td>0</td>\n",
       "      <td>0</td>\n",
       "    </tr>\n",
       "    <tr>\n",
       "      <th>210021</th>\n",
       "      <td>2458361282</td>\n",
       "      <td>4</td>\n",
       "      <td>0</td>\n",
       "      <td>3</td>\n",
       "      <td>1</td>\n",
       "      <td>0</td>\n",
       "    </tr>\n",
       "    <tr>\n",
       "      <th>210022</th>\n",
       "      <td>2458361283</td>\n",
       "      <td>4</td>\n",
       "      <td>1</td>\n",
       "      <td>1</td>\n",
       "      <td>1</td>\n",
       "      <td>0</td>\n",
       "    </tr>\n",
       "  </tbody>\n",
       "</table>\n",
       "<p>210023 rows × 6 columns</p>\n",
       "</div>"
      ],
      "text/plain": [
       "           user_id  location  source  topic  returning  customer\n",
       "0       2458151261         6       2      4          0         0\n",
       "1       2458151262         6       2      5          0         0\n",
       "2       2458151263         6       0      0          0         0\n",
       "3       2458151264         6       0      3          0         0\n",
       "4       2458151265         7       1      4          0         0\n",
       "...            ...       ...     ...    ...        ...       ...\n",
       "210018  2458361279         0       2      4          0         0\n",
       "210019  2458361280         5       0      1          0         0\n",
       "210020  2458361281         7       0      3          0         0\n",
       "210021  2458361282         4       0      3          1         0\n",
       "210022  2458361283         4       1      1          1         0\n",
       "\n",
       "[210023 rows x 6 columns]"
      ]
     },
     "execution_count": 71,
     "metadata": {},
     "output_type": "execute_result"
    }
   ],
   "source": [
    "known"
   ]
  },
  {
   "cell_type": "code",
   "execution_count": 72,
   "id": "27f51977-391c-4452-82db-b4688f617140",
   "metadata": {},
   "outputs": [],
   "source": [
    "# Input variables\n",
    "x = known[['source', 'location', 'topic']]"
   ]
  },
  {
   "cell_type": "code",
   "execution_count": 73,
   "id": "7bb27959-9d1b-4ac9-83ab-789620e00576",
   "metadata": {},
   "outputs": [],
   "source": [
    "# n_estimators how many decisions tree will predict\n",
    "# The bigger the dataset, the more tree we need\n",
    "# On huge datasets min 100 tree"
   ]
  },
  {
   "cell_type": "markdown",
   "id": "8c07a532-e3fd-46b8-b684-2b838770841a",
   "metadata": {},
   "source": [
    "### Separate model for each target variable"
   ]
  },
  {
   "cell_type": "markdown",
   "id": "6834c193-3fc6-427f-a970-3dc0b5e824d6",
   "metadata": {},
   "source": [
    "#### Model for predict returning"
   ]
  },
  {
   "cell_type": "code",
   "execution_count": 74,
   "id": "eca1a844-0036-4532-bdd9-44ceff52b269",
   "metadata": {},
   "outputs": [],
   "source": [
    "# Output variable\n",
    "y_returning = known['returning']\n",
    "model_returning = RandomForestClassifier(n_estimators = 200)\n",
    "model_returning = model_returning.fit(x.values, y_returning)"
   ]
  },
  {
   "cell_type": "code",
   "execution_count": 75,
   "id": "11463114-d8fe-4ffd-8a71-380b7ba54e04",
   "metadata": {},
   "outputs": [
    {
     "data": {
      "text/html": [
       "<style>#sk-container-id-2 {color: black;}#sk-container-id-2 pre{padding: 0;}#sk-container-id-2 div.sk-toggleable {background-color: white;}#sk-container-id-2 label.sk-toggleable__label {cursor: pointer;display: block;width: 100%;margin-bottom: 0;padding: 0.3em;box-sizing: border-box;text-align: center;}#sk-container-id-2 label.sk-toggleable__label-arrow:before {content: \"▸\";float: left;margin-right: 0.25em;color: #696969;}#sk-container-id-2 label.sk-toggleable__label-arrow:hover:before {color: black;}#sk-container-id-2 div.sk-estimator:hover label.sk-toggleable__label-arrow:before {color: black;}#sk-container-id-2 div.sk-toggleable__content {max-height: 0;max-width: 0;overflow: hidden;text-align: left;background-color: #f0f8ff;}#sk-container-id-2 div.sk-toggleable__content pre {margin: 0.2em;color: black;border-radius: 0.25em;background-color: #f0f8ff;}#sk-container-id-2 input.sk-toggleable__control:checked~div.sk-toggleable__content {max-height: 200px;max-width: 100%;overflow: auto;}#sk-container-id-2 input.sk-toggleable__control:checked~label.sk-toggleable__label-arrow:before {content: \"▾\";}#sk-container-id-2 div.sk-estimator input.sk-toggleable__control:checked~label.sk-toggleable__label {background-color: #d4ebff;}#sk-container-id-2 div.sk-label input.sk-toggleable__control:checked~label.sk-toggleable__label {background-color: #d4ebff;}#sk-container-id-2 input.sk-hidden--visually {border: 0;clip: rect(1px 1px 1px 1px);clip: rect(1px, 1px, 1px, 1px);height: 1px;margin: -1px;overflow: hidden;padding: 0;position: absolute;width: 1px;}#sk-container-id-2 div.sk-estimator {font-family: monospace;background-color: #f0f8ff;border: 1px dotted black;border-radius: 0.25em;box-sizing: border-box;margin-bottom: 0.5em;}#sk-container-id-2 div.sk-estimator:hover {background-color: #d4ebff;}#sk-container-id-2 div.sk-parallel-item::after {content: \"\";width: 100%;border-bottom: 1px solid gray;flex-grow: 1;}#sk-container-id-2 div.sk-label:hover label.sk-toggleable__label {background-color: #d4ebff;}#sk-container-id-2 div.sk-serial::before {content: \"\";position: absolute;border-left: 1px solid gray;box-sizing: border-box;top: 0;bottom: 0;left: 50%;z-index: 0;}#sk-container-id-2 div.sk-serial {display: flex;flex-direction: column;align-items: center;background-color: white;padding-right: 0.2em;padding-left: 0.2em;position: relative;}#sk-container-id-2 div.sk-item {position: relative;z-index: 1;}#sk-container-id-2 div.sk-parallel {display: flex;align-items: stretch;justify-content: center;background-color: white;position: relative;}#sk-container-id-2 div.sk-item::before, #sk-container-id-2 div.sk-parallel-item::before {content: \"\";position: absolute;border-left: 1px solid gray;box-sizing: border-box;top: 0;bottom: 0;left: 50%;z-index: -1;}#sk-container-id-2 div.sk-parallel-item {display: flex;flex-direction: column;z-index: 1;position: relative;background-color: white;}#sk-container-id-2 div.sk-parallel-item:first-child::after {align-self: flex-end;width: 50%;}#sk-container-id-2 div.sk-parallel-item:last-child::after {align-self: flex-start;width: 50%;}#sk-container-id-2 div.sk-parallel-item:only-child::after {width: 0;}#sk-container-id-2 div.sk-dashed-wrapped {border: 1px dashed gray;margin: 0 0.4em 0.5em 0.4em;box-sizing: border-box;padding-bottom: 0.4em;background-color: white;}#sk-container-id-2 div.sk-label label {font-family: monospace;font-weight: bold;display: inline-block;line-height: 1.2em;}#sk-container-id-2 div.sk-label-container {text-align: center;}#sk-container-id-2 div.sk-container {/* jupyter's `normalize.less` sets `[hidden] { display: none; }` but bootstrap.min.css set `[hidden] { display: none !important; }` so we also need the `!important` here to be able to override the default hidden behavior on the sphinx rendered scikit-learn.org. See: https://github.com/scikit-learn/scikit-learn/issues/21755 */display: inline-block !important;position: relative;}#sk-container-id-2 div.sk-text-repr-fallback {display: none;}</style><div id=\"sk-container-id-2\" class=\"sk-top-container\"><div class=\"sk-text-repr-fallback\"><pre>RandomForestClassifier(n_estimators=200)</pre><b>In a Jupyter environment, please rerun this cell to show the HTML representation or trust the notebook. <br />On GitHub, the HTML representation is unable to render, please try loading this page with nbviewer.org.</b></div><div class=\"sk-container\" hidden><div class=\"sk-item\"><div class=\"sk-estimator sk-toggleable\"><input class=\"sk-toggleable__control sk-hidden--visually\" id=\"sk-estimator-id-2\" type=\"checkbox\" checked><label for=\"sk-estimator-id-2\" class=\"sk-toggleable__label sk-toggleable__label-arrow\">RandomForestClassifier</label><div class=\"sk-toggleable__content\"><pre>RandomForestClassifier(n_estimators=200)</pre></div></div></div></div></div>"
      ],
      "text/plain": [
       "RandomForestClassifier(n_estimators=200)"
      ]
     },
     "execution_count": 75,
     "metadata": {},
     "output_type": "execute_result"
    }
   ],
   "source": [
    "model_returning"
   ]
  },
  {
   "cell_type": "markdown",
   "id": "6ebe0e11-b56c-4993-b12e-553df65a0fe3",
   "metadata": {},
   "source": [
    "#### Model for predict customer"
   ]
  },
  {
   "cell_type": "code",
   "execution_count": 76,
   "id": "f1f94418-a222-46cb-96ff-3309554da894",
   "metadata": {},
   "outputs": [],
   "source": [
    "# Output variable\n",
    "y_customer = known['customer']"
   ]
  },
  {
   "cell_type": "markdown",
   "id": "e89d74ab-ce05-4a3a-bc86-7bfed5f0f3b5",
   "metadata": {},
   "source": [
    "##### Adjust class weights for the model"
   ]
  },
  {
   "cell_type": "code",
   "execution_count": 77,
   "id": "ed015cdb-866f-4c61-9eb2-d062d2ab2dd5",
   "metadata": {},
   "outputs": [],
   "source": [
    "# Common problem is that the model may become biased towards the majority class, leading to poor performance on the minority class\n",
    "# Adjust class weights for imbalanced dataset\n",
    "class_weights = {0: 1, 1: 10}  # Adjust the weights based on the imbalance"
   ]
  },
  {
   "cell_type": "code",
   "execution_count": 78,
   "id": "c3fc4049-77e9-49ca-99e5-e4d6f384f675",
   "metadata": {},
   "outputs": [],
   "source": [
    "model_customer = RandomForestClassifier(n_estimators=100, class_weight=class_weights)\n",
    "model_customer = model_customer.fit(x.values, y_customer)"
   ]
  },
  {
   "cell_type": "markdown",
   "id": "5b3d9fbe-eae6-44a3-acb3-b8d39b46b738",
   "metadata": {},
   "source": [
    "##### Sample user"
   ]
  },
  {
   "cell_type": "code",
   "execution_count": 79,
   "id": "cfad91c6-c2f3-4533-86f2-91e9c71cd5fa",
   "metadata": {},
   "outputs": [],
   "source": [
    "sample_user = [0, 3, 1]"
   ]
  },
  {
   "cell_type": "code",
   "execution_count": 80,
   "id": "5bc24e3f-d9de-4dd1-9952-a8dcdcd58d57",
   "metadata": {},
   "outputs": [
    {
     "data": {
      "text/plain": [
       "array([1])"
      ]
     },
     "execution_count": 80,
     "metadata": {},
     "output_type": "execute_result"
    }
   ],
   "source": [
    "model_returning.predict([sample_user])"
   ]
  },
  {
   "cell_type": "code",
   "execution_count": 81,
   "id": "d69614a8-e7d3-49a5-a5c6-76d9f129c8c2",
   "metadata": {},
   "outputs": [
    {
     "data": {
      "text/plain": [
       "array([1])"
      ]
     },
     "execution_count": 81,
     "metadata": {},
     "output_type": "execute_result"
    }
   ],
   "source": [
    "model_customer.predict([sample_user])"
   ]
  },
  {
   "cell_type": "code",
   "execution_count": 82,
   "id": "c311501d-a0a9-4701-a213-c78e8b4d7125",
   "metadata": {},
   "outputs": [
    {
     "data": {
      "text/plain": [
       "{'AdWords': 0, 'Reddit': 1, 'SEO': 2}"
      ]
     },
     "execution_count": 82,
     "metadata": {},
     "output_type": "execute_result"
    }
   ],
   "source": [
    "source_decoder"
   ]
  },
  {
   "cell_type": "code",
   "execution_count": 83,
   "id": "fad61526-96a3-4963-a3e6-c3e51559bc9b",
   "metadata": {},
   "outputs": [],
   "source": [
    "source_decoder_reverse = {v: k for k, v in source_decoder.items()}\n",
    "location_decoder_reverse = {v: k for k, v in location_decoder.items()}\n",
    "topic_decoder_reverse = {v: k for k, v in topic_decoder.items()}"
   ]
  },
  {
   "cell_type": "markdown",
   "id": "d10b743d-624e-4354-821d-a9b82418c48b",
   "metadata": {},
   "source": [
    "#### Generate predictions for all user groups"
   ]
  },
  {
   "cell_type": "code",
   "execution_count": 84,
   "id": "a6afaec7-1e55-4f0a-9ca0-6ed162a67ad7",
   "metadata": {},
   "outputs": [],
   "source": [
    "predictions = []\n",
    "\n",
    "for i in range(len(source_decoder)):\n",
    "    for f in range(len(location_decoder)):\n",
    "        for g in range(len(topic_decoder)):\n",
    "            sample_user = [i, f, g]\n",
    "            predicted_returning = model_returning.predict([sample_user])[0]\n",
    "            predicted_customer = model_customer.predict([sample_user])[0]\n",
    "            predictions.append([source_decoder_reverse[i], location_decoder_reverse[f], topic_decoder_reverse[g], predicted_returning, predicted_customer])"
   ]
  },
  {
   "cell_type": "code",
   "execution_count": 85,
   "id": "28caccb6-3f9c-4047-9d2d-a4ef6e919b17",
   "metadata": {},
   "outputs": [],
   "source": [
    "pred = pd.DataFrame(predictions, columns=['Source', 'Location', 'Topic', 'Predicted Returning', 'Predicted Customer'])"
   ]
  },
  {
   "cell_type": "code",
   "execution_count": 86,
   "id": "156fb893-b8eb-4147-b3ec-f4c1d2964d15",
   "metadata": {},
   "outputs": [],
   "source": [
    "pivot_returning = pred.pivot_table(index=['Source', 'Location'], columns='Topic', values='Predicted Returning', aggfunc='first')"
   ]
  },
  {
   "cell_type": "markdown",
   "id": "5adfc0ed-2c2b-46e9-bf52-497a0e44d82c",
   "metadata": {},
   "source": [
    "### Visualisation on heatmap"
   ]
  },
  {
   "cell_type": "markdown",
   "id": "d5619493-3c89-4f22-bf88-e994d2883b0e",
   "metadata": {},
   "source": [
    "##### Returning User Prediction"
   ]
  },
  {
   "cell_type": "code",
   "execution_count": 87,
   "id": "11f5fbc7-30ca-4a80-abf5-feca6a05eb4e",
   "metadata": {},
   "outputs": [
    {
     "data": {
      "image/png": "[encoded data removed]",
      "text/plain": [
       "<Figure size 1000x800 with 2 Axes>"
      ]
     },
     "metadata": {},
     "output_type": "display_data"
    }
   ],
   "source": [
    "plt.figure(figsize=(10, 8))\n",
    "plt.title('Predicted Returning by Source, Location, and Topic')\n",
    "plt.xlabel('Topic')\n",
    "plt.ylabel('Source, Location')\n",
    "plt.imshow(pivot_returning, cmap='coolwarm', aspect='auto')\n",
    "plt.colorbar(label='Predicted Returning')\n",
    "plt.xticks(ticks=range(len(topic_decoder)), labels=list(topic_decoder.keys()), rotation=90)\n",
    "plt.yticks(ticks=range(len(source_decoder) * len(location_decoder)),\n",
    "           labels=[f'{source_decoder_reverse[i // len(location_decoder)]}, {location_decoder_reverse[i % len(location_decoder)]}'\n",
    "                   for i in range(len(source_decoder) * len(location_decoder))])\n",
    "plt.show()"
   ]
  },
  {
   "cell_type": "markdown",
   "id": "dbdb05a4-0ddb-49f0-b40d-e2d408580650",
   "metadata": {},
   "source": [
    "##### Customer Prediction"
   ]
  },
  {
   "cell_type": "code",
   "execution_count": 88,
   "id": "867a8378-da88-43a4-b727-42332bf92838",
   "metadata": {},
   "outputs": [],
   "source": [
    "pivot_customer = pred.pivot_table(index=['Source', 'Location'], columns='Topic', values='Predicted Customer', aggfunc='first')"
   ]
  },
  {
   "cell_type": "code",
   "execution_count": 89,
   "id": "bfc53289-2bd4-4d9b-8f27-6edd8aa99c70",
   "metadata": {},
   "outputs": [
    {
     "data": {
      "image/png": "[encoded data removed]",
      "text/plain": [
       "<Figure size 1000x800 with 2 Axes>"
      ]
     },
     "metadata": {},
     "output_type": "display_data"
    }
   ],
   "source": [
    "plt.figure(figsize=(10, 8))\n",
    "plt.title('Predicted Customers by Source, Location, and Topic')\n",
    "plt.xlabel('Topic')\n",
    "plt.ylabel('Source, Location')\n",
    "plt.imshow(pivot_customer, cmap='coolwarm', aspect='auto')\n",
    "plt.colorbar(label='Predicted Customer')\n",
    "plt.xticks(ticks=range(len(topic_decoder)), labels=list(topic_decoder.keys()), rotation=90)\n",
    "plt.yticks(ticks=range(len(source_decoder) * len(location_decoder)),\n",
    "           labels=[f'{source_decoder_reverse[i // len(location_decoder)]}, {location_decoder_reverse[i % len(location_decoder)]}'\n",
    "                   for i in range(len(source_decoder) * len(location_decoder))])\n",
    "plt.show()"
   ]
  }
 ],
 "metadata": {
  "kernelspec": {
   "display_name": "Python 3 (ipykernel)",
   "language": "python",
   "name": "python3"
  },
  "language_info": {
   "codemirror_mode": {
    "name": "ipython",
    "version": 3
   },
   "file_extension": ".py",
   "mimetype": "text/x-python",
   "name": "python",
   "nbconvert_exporter": "python",
   "pygments_lexer": "ipython3",
   "version": "3.8.10"
  }
 },
 "nbformat": 4,
 "nbformat_minor": 5
}
